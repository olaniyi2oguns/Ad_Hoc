{
  "nbformat": 4,
  "nbformat_minor": 0,
  "metadata": {
    "colab": {
      "provenance": [],
      "mount_file_id": "1smABH8H__NCQZ2L8dnoSaf_Aw2opoJiy",
      "authorship_tag": "ABX9TyOgSV4o09DDZJd1h/YZkY29",
      "include_colab_link": true
    },
    "kernelspec": {
      "name": "python3",
      "display_name": "Python 3"
    },
    "language_info": {
      "name": "python"
    }
  },
  "cells": [
    {
      "cell_type": "markdown",
      "metadata": {
        "id": "view-in-github",
        "colab_type": "text"
      },
      "source": [
        "<a href=\"https://colab.research.google.com/github/olaniyi2oguns/Ad_Hoc/blob/main/Absenteeism_data_preprocessing.ipynb\" target=\"_parent\"><img src=\"https://colab.research.google.com/assets/colab-badge.svg\" alt=\"Open In Colab\"/></a>"
      ]
    },
    {
      "cell_type": "markdown",
      "source": [
        "# Import necessary libraries"
      ],
      "metadata": {
        "id": "HeCPyQYZc2N5"
      }
    },
    {
      "cell_type": "code",
      "execution_count": 202,
      "metadata": {
        "id": "nNBbpwWazMjL"
      },
      "outputs": [],
      "source": [
        "import numpy as np\n",
        "import pandas as pd\n",
        "from sklearn.preprocessing import OneHotEncoder\n",
        "from sklearn.compose import ColumnTransformer\n",
        "from sklearn.linear_model import LinearRegression\n",
        "from sklearn.metrics import mean_squared_error, r2_score\n",
        "from sklearn.model_selection import train_test_split\n",
        "from sklearn.preprocessing import LabelEncoder\n",
        "from sklearn.preprocessing import StandardScaler\n",
        "from sklearn.linear_model import LogisticRegression\n",
        "from sklearn.svm import SVC\n",
        "from sklearn.ensemble import RandomForestRegressor\n",
        "from sklearn.ensemble import RandomForestClassifier\n",
        "from datetime import datetime"
      ]
    },
    {
      "cell_type": "markdown",
      "source": [
        "# Load the dataset"
      ],
      "metadata": {
        "id": "dQAskMIzc9Rm"
      }
    },
    {
      "cell_type": "code",
      "source": [
        "dataset = pd.read_csv('/content/drive/MyDrive/DATA SCIENCE/Absenteeism_data.csv')"
      ],
      "metadata": {
        "id": "I2W0N9MxPkPf"
      },
      "execution_count": 203,
      "outputs": []
    },
    {
      "cell_type": "markdown",
      "source": [
        "# Pre-process the dataset"
      ],
      "metadata": {
        "id": "hRijtgWFqArp"
      }
    },
    {
      "cell_type": "markdown",
      "source": [
        "### Feature engineering"
      ],
      "metadata": {
        "id": "XqpJHMXuTjlI"
      }
    },
    {
      "cell_type": "code",
      "source": [
        "dataset = dataset.drop(['ID'], axis=1) # since ID is not going to add any value to the model, we need to drop it"
      ],
      "metadata": {
        "id": "uj5N4MAFzwxI"
      },
      "execution_count": 204,
      "outputs": []
    },
    {
      "cell_type": "markdown",
      "source": [
        "### Analysing the \"Reason for Absence\" column"
      ],
      "metadata": {
        "id": "S7z8WIy8UC62"
      }
    },
    {
      "cell_type": "code",
      "source": [
        "dataset['Reason for Absence'].min() #to get the smallest figure"
      ],
      "metadata": {
        "colab": {
          "base_uri": "https://localhost:8080/"
        },
        "id": "u9PJ2RhqcnPu",
        "outputId": "8a69fa46-a8fb-4b10-e269-c7b4eff2598e"
      },
      "execution_count": 205,
      "outputs": [
        {
          "output_type": "execute_result",
          "data": {
            "text/plain": [
              "0"
            ]
          },
          "metadata": {},
          "execution_count": 205
        }
      ]
    },
    {
      "cell_type": "code",
      "source": [
        "dataset['Reason for Absence'].max() #to get the highest figure"
      ],
      "metadata": {
        "colab": {
          "base_uri": "https://localhost:8080/"
        },
        "id": "-5ib53TVdIYs",
        "outputId": "29650e13-8b66-4c15-b396-8a415805f489"
      },
      "execution_count": 206,
      "outputs": [
        {
          "output_type": "execute_result",
          "data": {
            "text/plain": [
              "28"
            ]
          },
          "metadata": {},
          "execution_count": 206
        }
      ]
    },
    {
      "cell_type": "code",
      "source": [
        "sorted(dataset['Reason for Absence'].unique()) # sort function will list out the different categories contained in the column"
      ],
      "metadata": {
        "colab": {
          "base_uri": "https://localhost:8080/"
        },
        "id": "nxNxZqZLdS64",
        "outputId": "5c7fb734-bb7a-48c6-c1fd-84e2b44986ff"
      },
      "execution_count": 207,
      "outputs": [
        {
          "output_type": "execute_result",
          "data": {
            "text/plain": [
              "[0,\n",
              " 1,\n",
              " 2,\n",
              " 3,\n",
              " 4,\n",
              " 5,\n",
              " 6,\n",
              " 7,\n",
              " 8,\n",
              " 9,\n",
              " 10,\n",
              " 11,\n",
              " 12,\n",
              " 13,\n",
              " 14,\n",
              " 15,\n",
              " 16,\n",
              " 17,\n",
              " 18,\n",
              " 19,\n",
              " 21,\n",
              " 22,\n",
              " 23,\n",
              " 24,\n",
              " 25,\n",
              " 26,\n",
              " 27,\n",
              " 28]"
            ]
          },
          "metadata": {},
          "execution_count": 207
        }
      ]
    },
    {
      "cell_type": "code",
      "source": [
        "dataset['Reason for Absence'].nunique() # the unique function will give the number of different categories in the column"
      ],
      "metadata": {
        "colab": {
          "base_uri": "https://localhost:8080/"
        },
        "id": "VuPg5cLXd_RE",
        "outputId": "704e3376-1335-4ebf-9c14-4ec2d044b57c"
      },
      "execution_count": 208,
      "outputs": [
        {
          "output_type": "execute_result",
          "data": {
            "text/plain": [
              "28"
            ]
          },
          "metadata": {},
          "execution_count": 208
        }
      ]
    },
    {
      "cell_type": "markdown",
      "source": [
        "### Create dummy variables for the Reason for Absence column"
      ],
      "metadata": {
        "id": "yxQwr1SKVEQk"
      }
    },
    {
      "cell_type": "code",
      "source": [
        "Reason = pd.get_dummies(dataset['Reason for Absence'], drop_first =True) #drop_first class will help to remove the first column of the dummy variable as it is not relevant in the analysis."
      ],
      "metadata": {
        "id": "vXVLO1u1ig8k"
      },
      "execution_count": 209,
      "outputs": []
    },
    {
      "cell_type": "markdown",
      "source": [
        "### Create different groups from the dummy variable"
      ],
      "metadata": {
        "id": "pFdoMwB1VfNe"
      }
    },
    {
      "cell_type": "code",
      "source": [
        "reason_type1 =Reason.loc[:, 14]\n",
        "reason_type2 =Reason.loc[:, 15:17].max(axis=1)\n",
        "reason_type3 =Reason.loc[:, 18:21].max(axis=1)\n",
        "reason_type4 =Reason.loc[:, 22:].max(axis=1)"
      ],
      "metadata": {
        "id": "AmI3ZFsktstk"
      },
      "execution_count": 210,
      "outputs": []
    },
    {
      "cell_type": "code",
      "source": [
        "dataset.columns.values # this is done to call out all existing columns in the dataFrame"
      ],
      "metadata": {
        "colab": {
          "base_uri": "https://localhost:8080/"
        },
        "id": "gSMGpXcMg_FP",
        "outputId": "6cfa61ae-fcdd-4c94-ae1e-2885e53a1ec1"
      },
      "execution_count": 211,
      "outputs": [
        {
          "output_type": "execute_result",
          "data": {
            "text/plain": [
              "array(['Reason for Absence', 'Date', 'Transportation Expense',\n",
              "       'Distance to Work', 'Age', 'Daily Work Load Average',\n",
              "       'Body Mass Index', 'Education', 'Children', 'Pets',\n",
              "       'Absenteeism Time in Hours'], dtype=object)"
            ]
          },
          "metadata": {},
          "execution_count": 211
        }
      ]
    },
    {
      "cell_type": "code",
      "source": [
        "dataset = pd.concat([dataset, reason_type1, reason_type2, reason_type3, reason_type4], axis =1) # Add the new group of Reason for Absence into the existing columns"
      ],
      "metadata": {
        "id": "znpOZn3oiLWT"
      },
      "execution_count": 212,
      "outputs": []
    },
    {
      "cell_type": "code",
      "source": [
        "print(dataset)"
      ],
      "metadata": {
        "colab": {
          "base_uri": "https://localhost:8080/"
        },
        "id": "Fnd5s1TPijhS",
        "outputId": "7346542a-2aad-42ca-e69e-cb17cd4a191b"
      },
      "execution_count": 213,
      "outputs": [
        {
          "output_type": "stream",
          "name": "stdout",
          "text": [
            "     Reason for Absence        Date  Transportation Expense  Distance to Work  \\\n",
            "0                    26  07/07/2015                     289                36   \n",
            "1                     0  14/07/2015                     118                13   \n",
            "2                    23  15/07/2015                     179                51   \n",
            "3                     7  16/07/2015                     279                 5   \n",
            "4                    23  23/07/2015                     289                36   \n",
            "..                  ...         ...                     ...               ...   \n",
            "695                  10  23/05/2018                     179                22   \n",
            "696                   6  23/05/2018                     225                26   \n",
            "697                  10  24/05/2018                     330                16   \n",
            "698                  23  24/05/2018                     235                16   \n",
            "699                  28  31/05/2018                     291                31   \n",
            "\n",
            "     Age  Daily Work Load Average  Body Mass Index  Education  Children  Pets  \\\n",
            "0     33                  239.554               30          1         2     1   \n",
            "1     50                  239.554               31          1         1     0   \n",
            "2     38                  239.554               31          1         0     0   \n",
            "3     39                  239.554               24          1         2     0   \n",
            "4     33                  239.554               30          1         2     1   \n",
            "..   ...                      ...              ...        ...       ...   ...   \n",
            "695   40                  237.656               22          2         2     0   \n",
            "696   28                  237.656               24          1         1     2   \n",
            "697   28                  237.656               25          2         0     0   \n",
            "698   32                  237.656               25          3         0     0   \n",
            "699   40                  237.656               25          1         1     1   \n",
            "\n",
            "     Absenteeism Time in Hours  14  0  1  2  \n",
            "0                            4   0  0  0  1  \n",
            "1                            0   0  0  0  0  \n",
            "2                            2   0  0  0  1  \n",
            "3                            4   0  0  0  0  \n",
            "4                            2   0  0  0  1  \n",
            "..                         ...  .. .. .. ..  \n",
            "695                          8   0  0  0  0  \n",
            "696                          3   0  0  0  0  \n",
            "697                          8   0  0  0  0  \n",
            "698                          2   0  0  0  1  \n",
            "699                          2   0  0  0  1  \n",
            "\n",
            "[700 rows x 15 columns]\n"
          ]
        }
      ]
    },
    {
      "cell_type": "code",
      "source": [
        "column_names = ['Reason for Absence', 'Date', 'Transportation Expense',\n",
        "       'Distance to Work', 'Age', 'Daily Work Load Average',\n",
        "       'Body Mass Index', 'Education', 'Children', 'Pets',\n",
        "       'Absenteeism Time in Hours', 'Reason_1', 'Reason_2', 'Reason_3', 'Reason_4']    # Rename the new groups"
      ],
      "metadata": {
        "id": "PCkMCuHCi7F6"
      },
      "execution_count": 214,
      "outputs": []
    },
    {
      "cell_type": "markdown",
      "source": [
        "### Reorder the 4 new reasons"
      ],
      "metadata": {
        "id": "1tGGyDVPWWFI"
      }
    },
    {
      "cell_type": "code",
      "source": [
        "dataset.columns = column_names\n",
        "\n",
        "if len(column_names) == dataset.shape[1]:\n",
        "    dataset.columns = column_names\n",
        "else:\n",
        "    print(\"The number of column names does not match the number of columns in the dataset.\")"
      ],
      "metadata": {
        "id": "XKzYCDRukeai"
      },
      "execution_count": 215,
      "outputs": []
    },
    {
      "cell_type": "code",
      "source": [
        "print(dataset.head())"
      ],
      "metadata": {
        "colab": {
          "base_uri": "https://localhost:8080/"
        },
        "id": "CPP_R9oamDWC",
        "outputId": "ff5541d5-c16d-4fff-fffa-364f5f8ea52e"
      },
      "execution_count": 216,
      "outputs": [
        {
          "output_type": "stream",
          "name": "stdout",
          "text": [
            "   Reason for Absence        Date  Transportation Expense  Distance to Work  \\\n",
            "0                  26  07/07/2015                     289                36   \n",
            "1                   0  14/07/2015                     118                13   \n",
            "2                  23  15/07/2015                     179                51   \n",
            "3                   7  16/07/2015                     279                 5   \n",
            "4                  23  23/07/2015                     289                36   \n",
            "\n",
            "   Age  Daily Work Load Average  Body Mass Index  Education  Children  Pets  \\\n",
            "0   33                  239.554               30          1         2     1   \n",
            "1   50                  239.554               31          1         1     0   \n",
            "2   38                  239.554               31          1         0     0   \n",
            "3   39                  239.554               24          1         2     0   \n",
            "4   33                  239.554               30          1         2     1   \n",
            "\n",
            "   Absenteeism Time in Hours  Reason_1  Reason_2  Reason_3  Reason_4  \n",
            "0                          4         0         0         0         1  \n",
            "1                          0         0         0         0         0  \n",
            "2                          2         0         0         0         1  \n",
            "3                          4         0         0         0         0  \n",
            "4                          2         0         0         0         1  \n"
          ]
        }
      ]
    },
    {
      "cell_type": "code",
      "source": [
        "column_names_reordered = ['Reason for Absence', 'Reason_1', 'Reason_2', 'Reason_3', 'Reason_4', 'Date', 'Transportation Expense',\n",
        "       'Distance to Work', 'Age', 'Daily Work Load Average',\n",
        "       'Body Mass Index', 'Education', 'Children', 'Pets',\n",
        "       'Absenteeism Time in Hours']"
      ],
      "metadata": {
        "id": "AOwJrzU3odaU"
      },
      "execution_count": 217,
      "outputs": []
    },
    {
      "cell_type": "code",
      "source": [
        "dataset = dataset[column_names_reordered]\n",
        "\n",
        "print(dataset.head())"
      ],
      "metadata": {
        "colab": {
          "base_uri": "https://localhost:8080/"
        },
        "id": "H_-pxlucpH__",
        "outputId": "a5316995-152c-4e3e-b9e1-5a5e58e84cf6"
      },
      "execution_count": 218,
      "outputs": [
        {
          "output_type": "stream",
          "name": "stdout",
          "text": [
            "   Reason for Absence  Reason_1  Reason_2  Reason_3  Reason_4        Date  \\\n",
            "0                  26         0         0         0         1  07/07/2015   \n",
            "1                   0         0         0         0         0  14/07/2015   \n",
            "2                  23         0         0         0         1  15/07/2015   \n",
            "3                   7         0         0         0         0  16/07/2015   \n",
            "4                  23         0         0         0         1  23/07/2015   \n",
            "\n",
            "   Transportation Expense  Distance to Work  Age  Daily Work Load Average  \\\n",
            "0                     289                36   33                  239.554   \n",
            "1                     118                13   50                  239.554   \n",
            "2                     179                51   38                  239.554   \n",
            "3                     279                 5   39                  239.554   \n",
            "4                     289                36   33                  239.554   \n",
            "\n",
            "   Body Mass Index  Education  Children  Pets  Absenteeism Time in Hours  \n",
            "0               30          1         2     1                          4  \n",
            "1               31          1         1     0                          0  \n",
            "2               31          1         0     0                          2  \n",
            "3               24          1         2     0                          4  \n",
            "4               30          1         2     1                          2  \n"
          ]
        }
      ]
    },
    {
      "cell_type": "code",
      "source": [
        "dataset = dataset.drop(['Reason for Absence'], axis =1) # drop the Reason for Absence  since dummy reason for absene have been generated\n",
        "\n",
        "print(dataset.head())"
      ],
      "metadata": {
        "colab": {
          "base_uri": "https://localhost:8080/"
        },
        "id": "THL8QxgLp6k1",
        "outputId": "61d021be-ca86-4f3a-e01d-4f122429451e"
      },
      "execution_count": 219,
      "outputs": [
        {
          "output_type": "stream",
          "name": "stdout",
          "text": [
            "   Reason_1  Reason_2  Reason_3  Reason_4        Date  Transportation Expense  \\\n",
            "0         0         0         0         1  07/07/2015                     289   \n",
            "1         0         0         0         0  14/07/2015                     118   \n",
            "2         0         0         0         1  15/07/2015                     179   \n",
            "3         0         0         0         0  16/07/2015                     279   \n",
            "4         0         0         0         1  23/07/2015                     289   \n",
            "\n",
            "   Distance to Work  Age  Daily Work Load Average  Body Mass Index  Education  \\\n",
            "0                36   33                  239.554               30          1   \n",
            "1                13   50                  239.554               31          1   \n",
            "2                51   38                  239.554               31          1   \n",
            "3                 5   39                  239.554               24          1   \n",
            "4                36   33                  239.554               30          1   \n",
            "\n",
            "   Children  Pets  Absenteeism Time in Hours  \n",
            "0         2     1                          4  \n",
            "1         1     0                          0  \n",
            "2         0     0                          2  \n",
            "3         2     0                          4  \n",
            "4         2     1                          2  \n"
          ]
        }
      ]
    },
    {
      "cell_type": "markdown",
      "source": [
        "### Creating Checkpoint\n",
        "\n",
        "this is necessary so that if anything happens to the code , it won't after the whoel work"
      ],
      "metadata": {
        "id": "iD_0uhq8W1CF"
      }
    },
    {
      "cell_type": "code",
      "source": [
        "dataset_new = dataset.copy()"
      ],
      "metadata": {
        "id": "K9_18G1I9MFb"
      },
      "execution_count": 220,
      "outputs": []
    },
    {
      "cell_type": "code",
      "source": [
        "print(dataset_new.head())"
      ],
      "metadata": {
        "colab": {
          "base_uri": "https://localhost:8080/"
        },
        "id": "uRgUhEtD9Onj",
        "outputId": "db5e2b60-2822-43f0-8042-e8e631db3598"
      },
      "execution_count": 221,
      "outputs": [
        {
          "output_type": "stream",
          "name": "stdout",
          "text": [
            "   Reason_1  Reason_2  Reason_3  Reason_4        Date  Transportation Expense  \\\n",
            "0         0         0         0         1  07/07/2015                     289   \n",
            "1         0         0         0         0  14/07/2015                     118   \n",
            "2         0         0         0         1  15/07/2015                     179   \n",
            "3         0         0         0         0  16/07/2015                     279   \n",
            "4         0         0         0         1  23/07/2015                     289   \n",
            "\n",
            "   Distance to Work  Age  Daily Work Load Average  Body Mass Index  Education  \\\n",
            "0                36   33                  239.554               30          1   \n",
            "1                13   50                  239.554               31          1   \n",
            "2                51   38                  239.554               31          1   \n",
            "3                 5   39                  239.554               24          1   \n",
            "4                36   33                  239.554               30          1   \n",
            "\n",
            "   Children  Pets  Absenteeism Time in Hours  \n",
            "0         2     1                          4  \n",
            "1         1     0                          0  \n",
            "2         0     0                          2  \n",
            "3         2     0                          4  \n",
            "4         2     1                          2  \n"
          ]
        }
      ]
    },
    {
      "cell_type": "markdown",
      "source": [
        "### Analysing the Date column and formatting it"
      ],
      "metadata": {
        "id": "5lklC-msXMvJ"
      }
    },
    {
      "cell_type": "code",
      "source": [
        "# Convert 'Date' to datetime\n",
        "dataset_new['Date'] = pd.to_datetime(dataset_new['Date'], format='%d/%m/%Y')\n",
        "\n",
        "# Extract month, and day of the week\n",
        "#dataset_new['Month'][0].month\n",
        "#dataset['DayOfWeek'] = dataset['Date'].dt.day_name()\n",
        "\n",
        "list_months = []\n",
        "for i in range(700):\n",
        "  list_months.append(dataset_new['Date'][i].month)\n",
        "\n",
        "\n",
        "print(list_months)"
      ],
      "metadata": {
        "colab": {
          "base_uri": "https://localhost:8080/"
        },
        "id": "FWDPfIXBVrqj",
        "outputId": "c8299c37-e206-459e-a956-2f199d425f4e"
      },
      "execution_count": 222,
      "outputs": [
        {
          "output_type": "stream",
          "name": "stdout",
          "text": [
            "[7, 7, 7, 7, 7, 7, 7, 7, 7, 7, 7, 7, 7, 7, 7, 7, 7, 7, 7, 8, 8, 8, 8, 8, 8, 8, 8, 8, 8, 8, 8, 8, 8, 8, 8, 8, 8, 8, 8, 8, 9, 9, 9, 9, 9, 9, 9, 9, 9, 9, 9, 9, 9, 9, 9, 9, 9, 9, 9, 9, 9, 9, 10, 10, 10, 10, 10, 10, 10, 10, 10, 10, 10, 10, 10, 10, 10, 10, 10, 10, 11, 11, 11, 11, 11, 11, 11, 11, 11, 11, 11, 11, 11, 11, 11, 11, 11, 11, 12, 12, 12, 12, 12, 12, 12, 12, 12, 12, 12, 12, 12, 12, 12, 1, 1, 1, 1, 1, 1, 1, 1, 1, 1, 1, 1, 1, 1, 1, 1, 1, 1, 1, 1, 1, 1, 1, 1, 2, 2, 2, 2, 2, 2, 2, 2, 2, 2, 2, 2, 2, 2, 2, 2, 2, 2, 3, 3, 3, 3, 3, 3, 3, 3, 3, 3, 3, 3, 3, 3, 3, 3, 3, 3, 3, 3, 3, 3, 3, 3, 3, 3, 3, 3, 3, 4, 4, 4, 4, 4, 4, 4, 4, 4, 4, 4, 4, 4, 4, 4, 4, 4, 4, 4, 4, 5, 5, 5, 5, 5, 5, 5, 5, 5, 5, 5, 5, 5, 5, 5, 5, 6, 6, 6, 6, 6, 6, 6, 6, 6, 6, 6, 6, 6, 6, 6, 6, 7, 7, 7, 7, 7, 7, 7, 7, 7, 7, 7, 7, 7, 7, 7, 7, 8, 8, 8, 8, 8, 8, 8, 8, 8, 8, 8, 8, 8, 8, 8, 8, 8, 8, 9, 9, 9, 9, 9, 9, 9, 9, 9, 9, 9, 9, 9, 9, 9, 9, 9, 9, 9, 10, 10, 10, 10, 10, 10, 10, 10, 10, 10, 10, 10, 10, 10, 10, 10, 10, 10, 10, 10, 10, 10, 10, 10, 10, 10, 10, 10, 11, 11, 11, 11, 11, 11, 11, 11, 11, 11, 11, 11, 11, 11, 11, 11, 11, 11, 11, 11, 11, 11, 12, 12, 12, 12, 12, 12, 12, 12, 12, 12, 12, 12, 12, 12, 12, 12, 12, 12, 12, 1, 1, 1, 1, 1, 1, 1, 1, 1, 1, 1, 2, 2, 2, 2, 2, 2, 2, 2, 2, 2, 2, 2, 2, 2, 2, 2, 2, 2, 2, 2, 2, 3, 3, 3, 3, 3, 3, 3, 3, 3, 3, 3, 3, 3, 3, 3, 3, 3, 3, 3, 3, 3, 3, 4, 4, 4, 4, 4, 4, 4, 4, 4, 4, 4, 4, 4, 5, 5, 5, 5, 5, 5, 5, 5, 5, 5, 5, 5, 5, 5, 5, 5, 6, 6, 6, 6, 6, 6, 6, 6, 6, 6, 6, 6, 6, 6, 6, 6, 6, 6, 6, 7, 7, 7, 7, 7, 7, 7, 7, 7, 7, 7, 7, 7, 7, 7, 7, 7, 7, 7, 7, 8, 8, 8, 8, 8, 8, 8, 8, 8, 8, 8, 8, 8, 8, 8, 9, 9, 9, 9, 9, 9, 9, 9, 9, 9, 9, 9, 10, 10, 10, 10, 10, 10, 10, 10, 10, 10, 10, 10, 10, 10, 10, 10, 10, 10, 10, 10, 10, 10, 10, 10, 10, 11, 11, 11, 11, 11, 11, 11, 11, 11, 11, 11, 11, 11, 11, 11, 11, 11, 11, 11, 11, 11, 11, 11, 12, 12, 12, 12, 12, 12, 12, 12, 12, 12, 12, 12, 12, 12, 12, 1, 1, 1, 1, 1, 1, 1, 1, 1, 1, 1, 1, 1, 1, 1, 2, 2, 2, 2, 2, 2, 2, 2, 2, 2, 2, 2, 2, 2, 2, 2, 2, 2, 2, 2, 2, 2, 2, 2, 2, 2, 2, 2, 2, 2, 2, 2, 2, 3, 3, 3, 3, 3, 3, 3, 3, 3, 3, 3, 3, 3, 3, 3, 3, 3, 3, 3, 3, 3, 3, 3, 3, 3, 3, 3, 3, 3, 3, 3, 3, 3, 3, 3, 3, 4, 4, 4, 4, 4, 4, 4, 4, 4, 4, 4, 4, 4, 4, 4, 4, 4, 4, 4, 4, 5, 5, 5, 5, 5, 5, 5, 5, 5, 5, 5, 5, 5, 5, 5, 5, 5, 5, 5, 5, 5, 5, 5, 5, 5, 5]\n"
          ]
        }
      ]
    },
    {
      "cell_type": "code",
      "source": [
        "dataset_new['Month Value'] = list_months\n",
        "\n",
        "print(dataset_new.head())"
      ],
      "metadata": {
        "colab": {
          "base_uri": "https://localhost:8080/"
        },
        "id": "BLBUSk12EKES",
        "outputId": "5f44c71e-4fa1-4700-fa3d-38cd1ce663e8"
      },
      "execution_count": 223,
      "outputs": [
        {
          "output_type": "stream",
          "name": "stdout",
          "text": [
            "   Reason_1  Reason_2  Reason_3  Reason_4       Date  Transportation Expense  \\\n",
            "0         0         0         0         1 2015-07-07                     289   \n",
            "1         0         0         0         0 2015-07-14                     118   \n",
            "2         0         0         0         1 2015-07-15                     179   \n",
            "3         0         0         0         0 2015-07-16                     279   \n",
            "4         0         0         0         1 2015-07-23                     289   \n",
            "\n",
            "   Distance to Work  Age  Daily Work Load Average  Body Mass Index  Education  \\\n",
            "0                36   33                  239.554               30          1   \n",
            "1                13   50                  239.554               31          1   \n",
            "2                51   38                  239.554               31          1   \n",
            "3                 5   39                  239.554               24          1   \n",
            "4                36   33                  239.554               30          1   \n",
            "\n",
            "   Children  Pets  Absenteeism Time in Hours  Month Value  \n",
            "0         2     1                          4            7  \n",
            "1         1     0                          0            7  \n",
            "2         0     0                          2            7  \n",
            "3         2     0                          4            7  \n",
            "4         2     1                          2            7  \n"
          ]
        }
      ]
    },
    {
      "cell_type": "code",
      "source": [
        "def date_to_weekday(date_value):\n",
        "        return date_value.weekday()\n",
        "\n",
        "dataset_new['Day of the Week'] = dataset_new['Date'].apply(date_to_weekday)"
      ],
      "metadata": {
        "id": "FNdb9xWbEnqd"
      },
      "execution_count": 224,
      "outputs": []
    },
    {
      "cell_type": "code",
      "source": [
        "print(dataset_new)"
      ],
      "metadata": {
        "colab": {
          "base_uri": "https://localhost:8080/"
        },
        "id": "SRDBHQebJxas",
        "outputId": "cf8787a6-ebf9-4d4a-953a-ef415a4bb6f4"
      },
      "execution_count": 225,
      "outputs": [
        {
          "output_type": "stream",
          "name": "stdout",
          "text": [
            "     Reason_1  Reason_2  Reason_3  Reason_4       Date  \\\n",
            "0           0         0         0         1 2015-07-07   \n",
            "1           0         0         0         0 2015-07-14   \n",
            "2           0         0         0         1 2015-07-15   \n",
            "3           0         0         0         0 2015-07-16   \n",
            "4           0         0         0         1 2015-07-23   \n",
            "..        ...       ...       ...       ...        ...   \n",
            "695         0         0         0         0 2018-05-23   \n",
            "696         0         0         0         0 2018-05-23   \n",
            "697         0         0         0         0 2018-05-24   \n",
            "698         0         0         0         1 2018-05-24   \n",
            "699         0         0         0         1 2018-05-31   \n",
            "\n",
            "     Transportation Expense  Distance to Work  Age  Daily Work Load Average  \\\n",
            "0                       289                36   33                  239.554   \n",
            "1                       118                13   50                  239.554   \n",
            "2                       179                51   38                  239.554   \n",
            "3                       279                 5   39                  239.554   \n",
            "4                       289                36   33                  239.554   \n",
            "..                      ...               ...  ...                      ...   \n",
            "695                     179                22   40                  237.656   \n",
            "696                     225                26   28                  237.656   \n",
            "697                     330                16   28                  237.656   \n",
            "698                     235                16   32                  237.656   \n",
            "699                     291                31   40                  237.656   \n",
            "\n",
            "     Body Mass Index  Education  Children  Pets  Absenteeism Time in Hours  \\\n",
            "0                 30          1         2     1                          4   \n",
            "1                 31          1         1     0                          0   \n",
            "2                 31          1         0     0                          2   \n",
            "3                 24          1         2     0                          4   \n",
            "4                 30          1         2     1                          2   \n",
            "..               ...        ...       ...   ...                        ...   \n",
            "695               22          2         2     0                          8   \n",
            "696               24          1         1     2                          3   \n",
            "697               25          2         0     0                          8   \n",
            "698               25          3         0     0                          2   \n",
            "699               25          1         1     1                          2   \n",
            "\n",
            "     Month Value  Day of the Week  \n",
            "0              7                1  \n",
            "1              7                1  \n",
            "2              7                2  \n",
            "3              7                3  \n",
            "4              7                3  \n",
            "..           ...              ...  \n",
            "695            5                2  \n",
            "696            5                2  \n",
            "697            5                3  \n",
            "698            5                3  \n",
            "699            5                3  \n",
            "\n",
            "[700 rows x 16 columns]\n"
          ]
        }
      ]
    },
    {
      "cell_type": "code",
      "source": [
        "dataset_new.columns"
      ],
      "metadata": {
        "colab": {
          "base_uri": "https://localhost:8080/"
        },
        "id": "rzX2yBssKwWc",
        "outputId": "6cca1b81-aeae-47bd-bcd1-69e591b27f1a"
      },
      "execution_count": 226,
      "outputs": [
        {
          "output_type": "execute_result",
          "data": {
            "text/plain": [
              "Index(['Reason_1', 'Reason_2', 'Reason_3', 'Reason_4', 'Date',\n",
              "       'Transportation Expense', 'Distance to Work', 'Age',\n",
              "       'Daily Work Load Average', 'Body Mass Index', 'Education', 'Children',\n",
              "       'Pets', 'Absenteeism Time in Hours', 'Month Value', 'Day of the Week'],\n",
              "      dtype='object')"
            ]
          },
          "metadata": {},
          "execution_count": 226
        }
      ]
    },
    {
      "cell_type": "code",
      "source": [
        "# Extract the list of columns\n",
        "columns = list(dataset_new.columns)\n",
        "\n",
        "# Find the index of the original 'Date' column\n",
        "date_index = columns.index('Date')\n",
        "\n",
        "# Remove 'Month' and 'DayOfWeek' from their current positions\n",
        "columns.remove('Month Value')\n",
        "columns.remove('Day of the Week')\n",
        "\n",
        "# Insert 'Month' and 'DayOfWeek' at the position of the original 'Date' column\n",
        "columns.insert(date_index, 'Month Value')\n",
        "columns.insert(date_index + 1, 'Day of the Week')\n",
        "\n",
        "# Reorder the DataFrame columns\n",
        "dataset_new = dataset_new[columns]"
      ],
      "metadata": {
        "id": "gJ7_N_UMvd47"
      },
      "execution_count": 227,
      "outputs": []
    },
    {
      "cell_type": "code",
      "source": [
        "print(dataset_new.head(5))"
      ],
      "metadata": {
        "colab": {
          "base_uri": "https://localhost:8080/"
        },
        "id": "GUresrwYwFbq",
        "outputId": "eb3d99ce-d9ad-47dd-de83-bb818493c6bb"
      },
      "execution_count": 228,
      "outputs": [
        {
          "output_type": "stream",
          "name": "stdout",
          "text": [
            "   Reason_1  Reason_2  Reason_3  Reason_4  Month Value  Day of the Week  \\\n",
            "0         0         0         0         1            7                1   \n",
            "1         0         0         0         0            7                1   \n",
            "2         0         0         0         1            7                2   \n",
            "3         0         0         0         0            7                3   \n",
            "4         0         0         0         1            7                3   \n",
            "\n",
            "        Date  Transportation Expense  Distance to Work  Age  \\\n",
            "0 2015-07-07                     289                36   33   \n",
            "1 2015-07-14                     118                13   50   \n",
            "2 2015-07-15                     179                51   38   \n",
            "3 2015-07-16                     279                 5   39   \n",
            "4 2015-07-23                     289                36   33   \n",
            "\n",
            "   Daily Work Load Average  Body Mass Index  Education  Children  Pets  \\\n",
            "0                  239.554               30          1         2     1   \n",
            "1                  239.554               31          1         1     0   \n",
            "2                  239.554               31          1         0     0   \n",
            "3                  239.554               24          1         2     0   \n",
            "4                  239.554               30          1         2     1   \n",
            "\n",
            "   Absenteeism Time in Hours  \n",
            "0                          4  \n",
            "1                          0  \n",
            "2                          2  \n",
            "3                          4  \n",
            "4                          2  \n"
          ]
        }
      ]
    },
    {
      "cell_type": "code",
      "source": [
        "dataset_new['Education'].unique()"
      ],
      "metadata": {
        "id": "KefH7UVPwKH-",
        "colab": {
          "base_uri": "https://localhost:8080/"
        },
        "outputId": "e3c3408f-9b0f-4bcb-e4c2-1e43c1366e0f"
      },
      "execution_count": 229,
      "outputs": [
        {
          "output_type": "execute_result",
          "data": {
            "text/plain": [
              "array([1, 3, 2, 4])"
            ]
          },
          "metadata": {},
          "execution_count": 229
        }
      ]
    },
    {
      "cell_type": "code",
      "source": [
        "dataset_new['Education'].value_counts()"
      ],
      "metadata": {
        "colab": {
          "base_uri": "https://localhost:8080/"
        },
        "id": "oYYG8-DeOq4T",
        "outputId": "07d76b3c-7312-4eec-b7c9-666e12955618"
      },
      "execution_count": 230,
      "outputs": [
        {
          "output_type": "execute_result",
          "data": {
            "text/plain": [
              "1    583\n",
              "3     73\n",
              "2     40\n",
              "4      4\n",
              "Name: Education, dtype: int64"
            ]
          },
          "metadata": {},
          "execution_count": 230
        }
      ]
    },
    {
      "cell_type": "code",
      "source": [
        "dataset_new['Education'] = dataset_new['Education'].map({1:0, 2:1, 3:1, 4:1})     # we replace 2,3, and 4 with value 1 because their total count is not individually significant to value count of 1"
      ],
      "metadata": {
        "id": "Ni8xuESQO7Op"
      },
      "execution_count": 231,
      "outputs": []
    },
    {
      "cell_type": "code",
      "source": [
        "dataset_new['Education'].value_counts()"
      ],
      "metadata": {
        "colab": {
          "base_uri": "https://localhost:8080/"
        },
        "id": "_mWinyobP_9G",
        "outputId": "d3f915ed-c28e-4085-ce75-92f416c7f772"
      },
      "execution_count": 232,
      "outputs": [
        {
          "output_type": "execute_result",
          "data": {
            "text/plain": [
              "0    583\n",
              "1    117\n",
              "Name: Education, dtype: int64"
            ]
          },
          "metadata": {},
          "execution_count": 232
        }
      ]
    },
    {
      "cell_type": "code",
      "source": [
        "print(dataset.tail(5))"
      ],
      "metadata": {
        "colab": {
          "base_uri": "https://localhost:8080/"
        },
        "id": "KAIQQKPbwaR4",
        "outputId": "945400ed-71cf-4b54-a801-7df5f87392cf"
      },
      "execution_count": 233,
      "outputs": [
        {
          "output_type": "stream",
          "name": "stdout",
          "text": [
            "     Reason_1  Reason_2  Reason_3  Reason_4        Date  \\\n",
            "695         0         0         0         0  23/05/2018   \n",
            "696         0         0         0         0  23/05/2018   \n",
            "697         0         0         0         0  24/05/2018   \n",
            "698         0         0         0         1  24/05/2018   \n",
            "699         0         0         0         1  31/05/2018   \n",
            "\n",
            "     Transportation Expense  Distance to Work  Age  Daily Work Load Average  \\\n",
            "695                     179                22   40                  237.656   \n",
            "696                     225                26   28                  237.656   \n",
            "697                     330                16   28                  237.656   \n",
            "698                     235                16   32                  237.656   \n",
            "699                     291                31   40                  237.656   \n",
            "\n",
            "     Body Mass Index  Education  Children  Pets  Absenteeism Time in Hours  \n",
            "695               22          2         2     0                          8  \n",
            "696               24          1         1     2                          3  \n",
            "697               25          2         0     0                          8  \n",
            "698               25          3         0     0                          2  \n",
            "699               25          1         1     1                          2  \n"
          ]
        }
      ]
    },
    {
      "cell_type": "code",
      "source": [
        "preprocessed_dataset = dataset_new.copy()"
      ],
      "metadata": {
        "id": "g-CHUJioQ_73"
      },
      "execution_count": 234,
      "outputs": []
    },
    {
      "cell_type": "code",
      "source": [
        "print(preprocessed_dataset.head(10))"
      ],
      "metadata": {
        "colab": {
          "base_uri": "https://localhost:8080/"
        },
        "id": "swBCtT5eRXRU",
        "outputId": "9867931f-9db2-4b29-8ac1-42fb64b49ffd"
      },
      "execution_count": 235,
      "outputs": [
        {
          "output_type": "stream",
          "name": "stdout",
          "text": [
            "   Reason_1  Reason_2  Reason_3  Reason_4  Month Value  Day of the Week  \\\n",
            "0         0         0         0         1            7                1   \n",
            "1         0         0         0         0            7                1   \n",
            "2         0         0         0         1            7                2   \n",
            "3         0         0         0         0            7                3   \n",
            "4         0         0         0         1            7                3   \n",
            "5         0         0         0         1            7                4   \n",
            "6         0         0         0         1            7                4   \n",
            "7         0         0         0         1            7                4   \n",
            "8         0         0         1         0            7                0   \n",
            "9         0         0         0         1            7                0   \n",
            "\n",
            "        Date  Transportation Expense  Distance to Work  Age  \\\n",
            "0 2015-07-07                     289                36   33   \n",
            "1 2015-07-14                     118                13   50   \n",
            "2 2015-07-15                     179                51   38   \n",
            "3 2015-07-16                     279                 5   39   \n",
            "4 2015-07-23                     289                36   33   \n",
            "5 2015-07-10                     179                51   38   \n",
            "6 2015-07-17                     361                52   28   \n",
            "7 2015-07-24                     260                50   36   \n",
            "8 2015-07-06                     155                12   34   \n",
            "9 2015-07-13                     235                11   37   \n",
            "\n",
            "   Daily Work Load Average  Body Mass Index  Education  Children  Pets  \\\n",
            "0                  239.554               30          0         2     1   \n",
            "1                  239.554               31          0         1     0   \n",
            "2                  239.554               31          0         0     0   \n",
            "3                  239.554               24          0         2     0   \n",
            "4                  239.554               30          0         2     1   \n",
            "5                  239.554               31          0         0     0   \n",
            "6                  239.554               27          0         1     4   \n",
            "7                  239.554               23          0         4     0   \n",
            "8                  239.554               25          0         2     0   \n",
            "9                  239.554               29          1         1     1   \n",
            "\n",
            "   Absenteeism Time in Hours  \n",
            "0                          4  \n",
            "1                          0  \n",
            "2                          2  \n",
            "3                          4  \n",
            "4                          2  \n",
            "5                          2  \n",
            "6                          8  \n",
            "7                          4  \n",
            "8                         40  \n",
            "9                          8  \n"
          ]
        }
      ]
    },
    {
      "cell_type": "code",
      "source": [
        " #Save to a CSV file\n",
        "preprocessed_dataset.to_csv('Absenteeism_processed_data.csv', index=False)"
      ],
      "metadata": {
        "id": "NkhXnfCsDiTM"
      },
      "execution_count": 237,
      "outputs": []
    }
  ]
}
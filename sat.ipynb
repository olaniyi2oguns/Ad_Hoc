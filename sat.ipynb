{
  "nbformat": 4,
  "nbformat_minor": 0,
  "metadata": {
    "colab": {
      "provenance": [],
      "authorship_tag": "ABX9TyPA7CdIKBIpShNpror3dw7W",
      "include_colab_link": true
    },
    "kernelspec": {
      "name": "python3",
      "display_name": "Python 3"
    },
    "language_info": {
      "name": "python"
    }
  },
  "cells": [
    {
      "cell_type": "markdown",
      "metadata": {
        "id": "view-in-github",
        "colab_type": "text"
      },
      "source": [
        "<a href=\"https://colab.research.google.com/github/olaniyi2oguns/Ad_Hoc/blob/main/sat.ipynb\" target=\"_parent\"><img src=\"https://colab.research.google.com/assets/colab-badge.svg\" alt=\"Open In Colab\"/></a>"
      ]
    },
    {
      "cell_type": "code",
      "execution_count": 9,
      "metadata": {
        "id": "92QVyc2Z6bmR"
      },
      "outputs": [],
      "source": [
        "import numpy as np\n",
        "import pandas as pd\n",
        "import matplotlib.pyplot as plt\n",
        "from sklearn.linear_model import LinearRegression\n",
        "from sklearn.preprocessing import LabelEncoder\n",
        "from sklearn.model_selection import train_test_split\n",
        "from sklearn.metrics import mean_squared_error, r2_score"
      ]
    },
    {
      "cell_type": "code",
      "source": [
        "dataset = pd.read_csv('/2.01.+Admittance.csv')\n",
        "x = dataset.iloc[:, 0:-1].values\n",
        "y = dataset.iloc[:, -1].values"
      ],
      "metadata": {
        "id": "GsTpWWE7_sdh"
      },
      "execution_count": 10,
      "outputs": []
    },
    {
      "cell_type": "code",
      "source": [
        "print(x)"
      ],
      "metadata": {
        "colab": {
          "base_uri": "https://localhost:8080/"
        },
        "id": "k4vhv3IhAJ5N",
        "outputId": "d1c50f99-3553-4513-d31e-92b9a74b5176"
      },
      "execution_count": 11,
      "outputs": [
        {
          "output_type": "stream",
          "name": "stdout",
          "text": [
            "[[1363]\n",
            " [1792]\n",
            " [1954]\n",
            " [1653]\n",
            " [1593]\n",
            " [1755]\n",
            " [1775]\n",
            " [1887]\n",
            " [1893]\n",
            " [1580]\n",
            " [1857]\n",
            " [1880]\n",
            " [1664]\n",
            " [1364]\n",
            " [1693]\n",
            " [1850]\n",
            " [1633]\n",
            " [1634]\n",
            " [1636]\n",
            " [1855]\n",
            " [1987]\n",
            " [1997]\n",
            " [1422]\n",
            " [1508]\n",
            " [1720]\n",
            " [1879]\n",
            " [1634]\n",
            " [1802]\n",
            " [1849]\n",
            " [1764]\n",
            " [1460]\n",
            " [1675]\n",
            " [1656]\n",
            " [2020]\n",
            " [1850]\n",
            " [1865]\n",
            " [1664]\n",
            " [1872]\n",
            " [1654]\n",
            " [1393]\n",
            " [1587]\n",
            " [1631]\n",
            " [1931]\n",
            " [1370]\n",
            " [1810]\n",
            " [1414]\n",
            " [1761]\n",
            " [1477]\n",
            " [1486]\n",
            " [1561]\n",
            " [1549]\n",
            " [2050]\n",
            " [1697]\n",
            " [1543]\n",
            " [1934]\n",
            " [1385]\n",
            " [1670]\n",
            " [1735]\n",
            " [1634]\n",
            " [1777]\n",
            " [1550]\n",
            " [1715]\n",
            " [1925]\n",
            " [1842]\n",
            " [1786]\n",
            " [1435]\n",
            " [1387]\n",
            " [1521]\n",
            " [1975]\n",
            " [1435]\n",
            " [1714]\n",
            " [1634]\n",
            " [1464]\n",
            " [1794]\n",
            " [1855]\n",
            " [1953]\n",
            " [1469]\n",
            " [1663]\n",
            " [1907]\n",
            " [1990]\n",
            " [1542]\n",
            " [1808]\n",
            " [1966]\n",
            " [1679]\n",
            " [2021]\n",
            " [2015]\n",
            " [1473]\n",
            " [1979]\n",
            " [1787]\n",
            " [1687]\n",
            " [1674]\n",
            " [1478]\n",
            " [1735]\n",
            " [1720]\n",
            " [1494]\n",
            " [1964]\n",
            " [1843]\n",
            " [1550]\n",
            " [1764]\n",
            " [1712]\n",
            " [1775]\n",
            " [1531]\n",
            " [1781]\n",
            " [1579]\n",
            " [1526]\n",
            " [1778]\n",
            " [1769]\n",
            " [1824]\n",
            " [1481]\n",
            " [1464]\n",
            " [1591]\n",
            " [1666]\n",
            " [1455]\n",
            " [1934]\n",
            " [1625]\n",
            " [1334]\n",
            " [1721]\n",
            " [1475]\n",
            " [1662]\n",
            " [1861]\n",
            " [1936]\n",
            " [1572]\n",
            " [1508]\n",
            " [1430]\n",
            " [1891]\n",
            " [1550]\n",
            " [1741]\n",
            " [1690]\n",
            " [1687]\n",
            " [1730]\n",
            " [1674]\n",
            " [1475]\n",
            " [1962]\n",
            " [1532]\n",
            " [1492]\n",
            " [1502]\n",
            " [1974]\n",
            " [1607]\n",
            " [1412]\n",
            " [1557]\n",
            " [1821]\n",
            " [1760]\n",
            " [1685]\n",
            " [1773]\n",
            " [1826]\n",
            " [1565]\n",
            " [1510]\n",
            " [1374]\n",
            " [1402]\n",
            " [1702]\n",
            " [1956]\n",
            " [1933]\n",
            " [1832]\n",
            " [1893]\n",
            " [1831]\n",
            " [1487]\n",
            " [2041]\n",
            " [1850]\n",
            " [1555]\n",
            " [2020]\n",
            " [1593]\n",
            " [1934]\n",
            " [1808]\n",
            " [1722]\n",
            " [1750]\n",
            " [1555]\n",
            " [1524]\n",
            " [1461]]\n"
          ]
        }
      ]
    },
    {
      "cell_type": "code",
      "source": [
        "print(y)"
      ],
      "metadata": {
        "colab": {
          "base_uri": "https://localhost:8080/"
        },
        "id": "t0kUZBEcAJp5",
        "outputId": "ed82873d-cdf1-4811-886b-271deb5f4328"
      },
      "execution_count": 12,
      "outputs": [
        {
          "output_type": "stream",
          "name": "stdout",
          "text": [
            "['No' 'Yes' 'Yes' 'No' 'No' 'Yes' 'Yes' 'Yes' 'Yes' 'No' 'Yes' 'Yes' 'Yes'\n",
            " 'No' 'No' 'Yes' 'No' 'No' 'Yes' 'Yes' 'Yes' 'Yes' 'No' 'No' 'Yes' 'Yes'\n",
            " 'Yes' 'Yes' 'Yes' 'Yes' 'No' 'Yes' 'No' 'Yes' 'Yes' 'Yes' 'No' 'Yes' 'No'\n",
            " 'No' 'No' 'Yes' 'Yes' 'No' 'Yes' 'No' 'Yes' 'No' 'No' 'No' 'No' 'Yes'\n",
            " 'No' 'No' 'Yes' 'No' 'No' 'Yes' 'No' 'Yes' 'No' 'Yes' 'Yes' 'Yes' 'Yes'\n",
            " 'No' 'No' 'No' 'Yes' 'No' 'Yes' 'Yes' 'No' 'Yes' 'Yes' 'Yes' 'No' 'Yes'\n",
            " 'Yes' 'Yes' 'No' 'Yes' 'Yes' 'No' 'Yes' 'Yes' 'No' 'Yes' 'Yes' 'Yes' 'No'\n",
            " 'No' 'Yes' 'Yes' 'No' 'Yes' 'Yes' 'No' 'Yes' 'Yes' 'Yes' 'No' 'Yes' 'No'\n",
            " 'No' 'Yes' 'Yes' 'Yes' 'No' 'No' 'No' 'No' 'No' 'Yes' 'No' 'No' 'Yes'\n",
            " 'No' 'Yes' 'Yes' 'Yes' 'No' 'No' 'No' 'Yes' 'No' 'Yes' 'No' 'Yes' 'Yes'\n",
            " 'Yes' 'No' 'Yes' 'No' 'No' 'No' 'Yes' 'No' 'No' 'No' 'Yes' 'Yes' 'Yes'\n",
            " 'Yes' 'Yes' 'No' 'No' 'No' 'No' 'Yes' 'Yes' 'Yes' 'Yes' 'Yes' 'Yes' 'No'\n",
            " 'Yes' 'Yes' 'No' 'Yes' 'No' 'Yes' 'Yes' 'Yes' 'Yes' 'No' 'No' 'No']\n"
          ]
        }
      ]
    },
    {
      "cell_type": "code",
      "source": [
        "lb = LabelEncoder()\n",
        "y = lb.fit_transform(y)\n",
        "print(y)"
      ],
      "metadata": {
        "colab": {
          "base_uri": "https://localhost:8080/"
        },
        "id": "aGwlGvUkAayt",
        "outputId": "c1562a70-8c4f-4f45-ea49-d55a6af75f3c"
      },
      "execution_count": 13,
      "outputs": [
        {
          "output_type": "stream",
          "name": "stdout",
          "text": [
            "[0 1 1 0 0 1 1 1 1 0 1 1 1 0 0 1 0 0 1 1 1 1 0 0 1 1 1 1 1 1 0 1 0 1 1 1 0\n",
            " 1 0 0 0 1 1 0 1 0 1 0 0 0 0 1 0 0 1 0 0 1 0 1 0 1 1 1 1 0 0 0 1 0 1 1 0 1\n",
            " 1 1 0 1 1 1 0 1 1 0 1 1 0 1 1 1 0 0 1 1 0 1 1 0 1 1 1 0 1 0 0 1 1 1 0 0 0\n",
            " 0 0 1 0 0 1 0 1 1 1 0 0 0 1 0 1 0 1 1 1 0 1 0 0 0 1 0 0 0 1 1 1 1 1 0 0 0\n",
            " 0 1 1 1 1 1 1 0 1 1 0 1 0 1 1 1 1 0 0 0]\n"
          ]
        }
      ]
    },
    {
      "cell_type": "code",
      "source": [
        "xtrain, xtest, ytrain, ytest = train_test_split(x, y, test_size= 0.2, random_state=1)\n"
      ],
      "metadata": {
        "id": "_50no3QNAw0U"
      },
      "execution_count": 15,
      "outputs": []
    },
    {
      "cell_type": "code",
      "source": [
        "print(xtrain)"
      ],
      "metadata": {
        "colab": {
          "base_uri": "https://localhost:8080/"
        },
        "id": "UgTEijZgBGih",
        "outputId": "9d167b28-7a7e-4cee-c3ef-698266dad32e"
      },
      "execution_count": 16,
      "outputs": [
        {
          "output_type": "stream",
          "name": "stdout",
          "text": [
            "[[1550]\n",
            " [1769]\n",
            " [1810]\n",
            " [1933]\n",
            " [1543]\n",
            " [1720]\n",
            " [1393]\n",
            " [1953]\n",
            " [1794]\n",
            " [2020]\n",
            " [1773]\n",
            " [1934]\n",
            " [1861]\n",
            " [1936]\n",
            " [1524]\n",
            " [1664]\n",
            " [2015]\n",
            " [1435]\n",
            " [1849]\n",
            " [1634]\n",
            " [1893]\n",
            " [1387]\n",
            " [1634]\n",
            " [1662]\n",
            " [1735]\n",
            " [1364]\n",
            " [1550]\n",
            " [1636]\n",
            " [1412]\n",
            " [1486]\n",
            " [1455]\n",
            " [1414]\n",
            " [1687]\n",
            " [1664]\n",
            " [1555]\n",
            " [2041]\n",
            " [1741]\n",
            " [1591]\n",
            " [1997]\n",
            " [1954]\n",
            " [1714]\n",
            " [1430]\n",
            " [1775]\n",
            " [1363]\n",
            " [1593]\n",
            " [1663]\n",
            " [1435]\n",
            " [1385]\n",
            " [1478]\n",
            " [1494]\n",
            " [1761]\n",
            " [1925]\n",
            " [1855]\n",
            " [1722]\n",
            " [1481]\n",
            " [1690]\n",
            " [1475]\n",
            " [1781]\n",
            " [1857]\n",
            " [1850]\n",
            " [1656]\n",
            " [1831]\n",
            " [1654]\n",
            " [1679]\n",
            " [1674]\n",
            " [1461]\n",
            " [1802]\n",
            " [1775]\n",
            " [1508]\n",
            " [1579]\n",
            " [1521]\n",
            " [1580]\n",
            " [1832]\n",
            " [1526]\n",
            " [1625]\n",
            " [1891]\n",
            " [1565]\n",
            " [1979]\n",
            " [1764]\n",
            " [1666]\n",
            " [1850]\n",
            " [1956]\n",
            " [1786]\n",
            " [1850]\n",
            " [1966]\n",
            " [1631]\n",
            " [1974]\n",
            " [1464]\n",
            " [1542]\n",
            " [1697]\n",
            " [1634]\n",
            " [1469]\n",
            " [1370]\n",
            " [1934]\n",
            " [1720]\n",
            " [1653]\n",
            " [1374]\n",
            " [1561]\n",
            " [1475]\n",
            " [2020]\n",
            " [1460]\n",
            " [1572]\n",
            " [1334]\n",
            " [1893]\n",
            " [1550]\n",
            " [1687]\n",
            " [1792]\n",
            " [1735]\n",
            " [1422]\n",
            " [1715]\n",
            " [1842]\n",
            " [1887]\n",
            " [1750]\n",
            " [1760]\n",
            " [1473]\n",
            " [1843]\n",
            " [1975]\n",
            " [1549]\n",
            " [1685]\n",
            " [1557]\n",
            " [1510]\n",
            " [1531]\n",
            " [1987]\n",
            " [1879]\n",
            " [1492]\n",
            " [1634]\n",
            " [1730]\n",
            " [1826]\n",
            " [1990]\n",
            " [1532]\n",
            " [1607]\n",
            " [1464]\n",
            " [1821]\n",
            " [1872]]\n"
          ]
        }
      ]
    },
    {
      "cell_type": "code",
      "source": [
        "print(ytrain)"
      ],
      "metadata": {
        "colab": {
          "base_uri": "https://localhost:8080/"
        },
        "id": "RUzKkRnnBGUy",
        "outputId": "fe5e5084-44e3-4f37-bea4-23b66288c6b5"
      },
      "execution_count": 17,
      "outputs": [
        {
          "output_type": "stream",
          "name": "stdout",
          "text": [
            "[0 1 1 1 0 1 0 1 1 1 1 1 1 1 0 1 1 0 1 0 1 0 0 1 1 0 0 1 0 0 0 0 1 0 0 1 1\n",
            " 0 1 1 1 0 1 0 0 1 0 0 0 0 1 1 1 1 0 0 0 1 1 1 0 1 0 0 1 0 1 1 0 0 0 0 1 0\n",
            " 0 1 0 1 1 0 1 1 1 1 1 1 1 0 0 0 1 0 0 1 1 0 0 0 0 1 0 0 0 1 0 1 1 1 0 1 1\n",
            " 1 1 1 0 1 1 0 1 0 0 0 1 1 0 1 1 1 1 0 0 0 1 1]\n"
          ]
        }
      ]
    },
    {
      "cell_type": "code",
      "source": [
        "regressor = LinearRegression()\n",
        "regressor.fit(xtrain, ytrain)"
      ],
      "metadata": {
        "colab": {
          "base_uri": "https://localhost:8080/",
          "height": 75
        },
        "id": "KMkuMSRuBVK-",
        "outputId": "10cc4d42-ec6f-4c64-84cb-660c53551817"
      },
      "execution_count": 18,
      "outputs": [
        {
          "output_type": "execute_result",
          "data": {
            "text/plain": [
              "LinearRegression()"
            ],
            "text/html": [
              "<style>#sk-container-id-1 {color: black;background-color: white;}#sk-container-id-1 pre{padding: 0;}#sk-container-id-1 div.sk-toggleable {background-color: white;}#sk-container-id-1 label.sk-toggleable__label {cursor: pointer;display: block;width: 100%;margin-bottom: 0;padding: 0.3em;box-sizing: border-box;text-align: center;}#sk-container-id-1 label.sk-toggleable__label-arrow:before {content: \"▸\";float: left;margin-right: 0.25em;color: #696969;}#sk-container-id-1 label.sk-toggleable__label-arrow:hover:before {color: black;}#sk-container-id-1 div.sk-estimator:hover label.sk-toggleable__label-arrow:before {color: black;}#sk-container-id-1 div.sk-toggleable__content {max-height: 0;max-width: 0;overflow: hidden;text-align: left;background-color: #f0f8ff;}#sk-container-id-1 div.sk-toggleable__content pre {margin: 0.2em;color: black;border-radius: 0.25em;background-color: #f0f8ff;}#sk-container-id-1 input.sk-toggleable__control:checked~div.sk-toggleable__content {max-height: 200px;max-width: 100%;overflow: auto;}#sk-container-id-1 input.sk-toggleable__control:checked~label.sk-toggleable__label-arrow:before {content: \"▾\";}#sk-container-id-1 div.sk-estimator input.sk-toggleable__control:checked~label.sk-toggleable__label {background-color: #d4ebff;}#sk-container-id-1 div.sk-label input.sk-toggleable__control:checked~label.sk-toggleable__label {background-color: #d4ebff;}#sk-container-id-1 input.sk-hidden--visually {border: 0;clip: rect(1px 1px 1px 1px);clip: rect(1px, 1px, 1px, 1px);height: 1px;margin: -1px;overflow: hidden;padding: 0;position: absolute;width: 1px;}#sk-container-id-1 div.sk-estimator {font-family: monospace;background-color: #f0f8ff;border: 1px dotted black;border-radius: 0.25em;box-sizing: border-box;margin-bottom: 0.5em;}#sk-container-id-1 div.sk-estimator:hover {background-color: #d4ebff;}#sk-container-id-1 div.sk-parallel-item::after {content: \"\";width: 100%;border-bottom: 1px solid gray;flex-grow: 1;}#sk-container-id-1 div.sk-label:hover label.sk-toggleable__label {background-color: #d4ebff;}#sk-container-id-1 div.sk-serial::before {content: \"\";position: absolute;border-left: 1px solid gray;box-sizing: border-box;top: 0;bottom: 0;left: 50%;z-index: 0;}#sk-container-id-1 div.sk-serial {display: flex;flex-direction: column;align-items: center;background-color: white;padding-right: 0.2em;padding-left: 0.2em;position: relative;}#sk-container-id-1 div.sk-item {position: relative;z-index: 1;}#sk-container-id-1 div.sk-parallel {display: flex;align-items: stretch;justify-content: center;background-color: white;position: relative;}#sk-container-id-1 div.sk-item::before, #sk-container-id-1 div.sk-parallel-item::before {content: \"\";position: absolute;border-left: 1px solid gray;box-sizing: border-box;top: 0;bottom: 0;left: 50%;z-index: -1;}#sk-container-id-1 div.sk-parallel-item {display: flex;flex-direction: column;z-index: 1;position: relative;background-color: white;}#sk-container-id-1 div.sk-parallel-item:first-child::after {align-self: flex-end;width: 50%;}#sk-container-id-1 div.sk-parallel-item:last-child::after {align-self: flex-start;width: 50%;}#sk-container-id-1 div.sk-parallel-item:only-child::after {width: 0;}#sk-container-id-1 div.sk-dashed-wrapped {border: 1px dashed gray;margin: 0 0.4em 0.5em 0.4em;box-sizing: border-box;padding-bottom: 0.4em;background-color: white;}#sk-container-id-1 div.sk-label label {font-family: monospace;font-weight: bold;display: inline-block;line-height: 1.2em;}#sk-container-id-1 div.sk-label-container {text-align: center;}#sk-container-id-1 div.sk-container {/* jupyter's `normalize.less` sets `[hidden] { display: none; }` but bootstrap.min.css set `[hidden] { display: none !important; }` so we also need the `!important` here to be able to override the default hidden behavior on the sphinx rendered scikit-learn.org. See: https://github.com/scikit-learn/scikit-learn/issues/21755 */display: inline-block !important;position: relative;}#sk-container-id-1 div.sk-text-repr-fallback {display: none;}</style><div id=\"sk-container-id-1\" class=\"sk-top-container\"><div class=\"sk-text-repr-fallback\"><pre>LinearRegression()</pre><b>In a Jupyter environment, please rerun this cell to show the HTML representation or trust the notebook. <br />On GitHub, the HTML representation is unable to render, please try loading this page with nbviewer.org.</b></div><div class=\"sk-container\" hidden><div class=\"sk-item\"><div class=\"sk-estimator sk-toggleable\"><input class=\"sk-toggleable__control sk-hidden--visually\" id=\"sk-estimator-id-1\" type=\"checkbox\" checked><label for=\"sk-estimator-id-1\" class=\"sk-toggleable__label sk-toggleable__label-arrow\">LinearRegression</label><div class=\"sk-toggleable__content\"><pre>LinearRegression()</pre></div></div></div></div></div>"
            ]
          },
          "metadata": {},
          "execution_count": 18
        }
      ]
    },
    {
      "cell_type": "code",
      "source": [
        "y_pred = regressor.predict(xtest)\n"
      ],
      "metadata": {
        "id": "rBBhTKq-Bo4Q"
      },
      "execution_count": 19,
      "outputs": []
    },
    {
      "cell_type": "code",
      "source": [
        "plt.scatter(xtrain, ytrain, color = 'red')\n",
        "plt.plot(xtrain, regressor.predict(xtrain), color = 'blue')\n",
        "plt.title('SAT vs Admitted')\n",
        "plt.xlabel('Sat')\n",
        "plt.ylabel('admitted')\n",
        "plt.show()"
      ],
      "metadata": {
        "colab": {
          "base_uri": "https://localhost:8080/",
          "height": 472
        },
        "id": "DOyqAroUITs5",
        "outputId": "3fe712aa-7492-48cd-8235-a8a768c3efc9"
      },
      "execution_count": 20,
      "outputs": [
        {
          "output_type": "display_data",
          "data": {
            "text/plain": [
              "<Figure size 640x480 with 1 Axes>"
            ],
            "image/png": "[encoded data removed]"
          },
          "metadata": {}
        }
      ]
    },
    {
      "cell_type": "code",
      "source": [
        "\n",
        "mse = mean_squared_error(ytest, y_pred)\n",
        "r_squared = r2_score(ytest, y_pred)\n",
        "print(f'R-squared Value: {r_squared}')\n"
      ],
      "metadata": {
        "colab": {
          "base_uri": "https://localhost:8080/"
        },
        "id": "mvavXwp_JR57",
        "outputId": "5532625e-cd13-45a8-a750-6329bc4fbfac"
      },
      "execution_count": 21,
      "outputs": [
        {
          "output_type": "stream",
          "name": "stdout",
          "text": [
            "R-squared Value: 0.6386396096476536\n"
          ]
        }
      ]
    }
  ]
}